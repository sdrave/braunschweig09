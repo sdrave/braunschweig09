{
 "cells": [
  {
   "cell_type": "markdown",
   "metadata": {
    "slideshow": {
     "slide_type": "slide"
    }
   },
   "source": [
    "## Testing"
   ]
  },
  {
   "cell_type": "markdown",
   "metadata": {
    "slideshow": {
     "slide_type": "subslide"
    }
   },
   "source": [
    "### Unit Tests\n",
    "* ensure the correct functioning of small code units (classes, algorithms)\n",
    "* ensure that the unit's interface matches it's specification\n",
    "* simplify the localization of bugs"
   ]
  },
  {
   "cell_type": "markdown",
   "metadata": {
    "slideshow": {
     "slide_type": "subslide"
    }
   },
   "source": [
    "### Integration Tests\n",
    "* ensure that multiple units can be combined as intended"
   ]
  },
  {
   "cell_type": "markdown",
   "metadata": {
    "slideshow": {
     "slide_type": "subslide"
    }
   },
   "source": [
    "### System Tests / Regression Tests\n",
    "* ensure that an entire program works as expected.\n",
    "* ensure that changes in the program do not cause unexpected side-effects.\n",
    "* example: store all numerical results of an example script and fail when results change."
   ]
  },
  {
   "cell_type": "markdown",
   "metadata": {
    "slideshow": {
     "slide_type": "subslide"
    }
   },
   "source": [
    "### Continuous Integration (CI)\n",
    "* Tests are only useful when executed!\n",
    "* CI issues a run of the test suite after each push to the code repository and notifies in case of failures.\n",
    "* CI tests if feature branches can be merged in the main development branch without errors."
   ]
  },
  {
   "cell_type": "markdown",
   "metadata": {},
   "source": [
    "## Software\n",
    "\n",
    "* [pytest](https://pytest.org) de-facto standard for unit testing in Python.\n",
    "* [hypothesis](https://hypothesis.works) adds property-based (easy parametrization, state machines) testing to pytest.\n",
    "* [Travis CI](https://travis-ci.org) free cloud-based CI for public [GitHub](https://github.com) projects.\n",
    "* [Gitlab CI](https://about.gitlab.com/product/continuous-integration/) CI for your own infrastructure."
   ]
  }
 ],
 "metadata": {
  "celltoolbar": "Slideshow",
  "kernelspec": {
   "display_name": "Python 3",
   "language": "python",
   "name": "python3"
  },
  "language_info": {
   "codemirror_mode": {
    "name": "ipython",
    "version": 3
   },
   "file_extension": ".py",
   "mimetype": "text/x-python",
   "name": "python",
   "nbconvert_exporter": "python",
   "pygments_lexer": "ipython3",
   "version": "3.7.2"
  }
 },
 "nbformat": 4,
 "nbformat_minor": 2
}
