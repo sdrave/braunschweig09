{
 "cells": [
  {
   "cell_type": "code",
   "execution_count": 26,
   "metadata": {
    "slideshow": {
     "slide_type": "skip"
    }
   },
   "outputs": [
    {
     "data": {
      "text/html": [
       "<style>\n",
       "div.text_cell_render.rendered_html {\n",
       "overflow-x: hidden !important;\n",
       "}\n",
       "code {\n",
       "    max-height: unset !important;\n",
       "}\n",
       "body.rise-enabled div.inner_cell>div.input_area {\n",
       "    font-size: 150%;\n",
       "}\n",
       "\n",
       "body.rise-enabled div.output_subarea.output_text.output_result {\n",
       "    font-size: 150%;\n",
       "}\n",
       "body.rise-enabled div.output_subarea.output_text.output_stream.output_stdout {\n",
       "  font-size: 150%;\n",
       "}\n",
       "\n",
       "div.prompt {display:none}\n",
       "</style>\n"
      ],
      "text/plain": [
       "<IPython.core.display.HTML object>"
      ]
     },
     "metadata": {},
     "output_type": "display_data"
    }
   ],
   "source": [
    "%%html\n",
    "<style>\n",
    "div.text_cell_render.rendered_html {\n",
    "overflow-x: hidden !important;\n",
    "}\n",
    "code {\n",
    "    max-height: unset !important;\n",
    "}\n",
    "body.rise-enabled div.inner_cell>div.input_area {\n",
    "    font-size: 150%;\n",
    "}\n",
    "\n",
    "body.rise-enabled div.output_subarea.output_text.output_result {\n",
    "    font-size: 150%;\n",
    "}\n",
    "body.rise-enabled div.output_subarea.output_text.output_stream.output_stdout {\n",
    "  font-size: 150%;\n",
    "}\n",
    "\n",
    "div.prompt {display:none}\n",
    "</style>\n"
   ]
  },
  {
   "cell_type": "markdown",
   "metadata": {
    "slideshow": {
     "slide_type": "slide"
    }
   },
   "source": [
    "## The Shell\n",
    "\n",
    "  * The shell is a text-based program that allows the user to perform \n",
    "        - file operations (move, copy, delete)\n",
    "        - execute programs\n",
    "\n",
    "  * In graphical desktop environments a **terminal** application is used\n",
    "    to manage text input and output.\n",
    "    The terminal talks to the shell program.'\n",
    "\n",
    "  * Most commonly used shell under Linux/macOS is **bash**. Further shells\n",
    "    are e.g. `zsh` und `fish`.\n",
    "\n",
    "  * On Windows the **command prompt** (`command.com`) is a rudimentary\n",
    "    shell. `Powershell` is a common alternative."
   ]
  },
  {
   "cell_type": "markdown",
   "metadata": {
    "slideshow": {
     "slide_type": "subslide"
    }
   },
   "source": [
    "## Directories (a.k.a. Folders)\n",
    "\n",
    "  * On Linux/macOS/Android/iOS, each file has an unique **path**\n",
    "    of the form\n",
    "\n",
    "    ```bash\n",
    "    /Directory1/Directory2/.../DirectoryN/FileName\n",
    "    ```\n",
    "\n",
    "  * Filenames are case sensitive:\n",
    "  \n",
    "    ```bash\n",
    "    /foo  !=   /Foo\n",
    "    ```\n",
    "\n",
    "  * The directory `/` is called the **root directory**.\n",
    "\n",
    "  * To show the files in directory `<path>`, use shell command\n",
    "\n",
    "    ```bash\n",
    "    ls <path> \n",
    "    ```"
   ]
  },
  {
   "cell_type": "markdown",
   "metadata": {
    "slideshow": {
     "slide_type": "subslide"
    }
   },
   "source": [
    "## Current Working Directory\n",
    "\n",
    "  * The shell always has a **current working directory (cwd)** that can be shown using\n",
    "\n",
    "    ```bash\n",
    "    pwd     # \"print working directory\"\n",
    "    ```\n",
    "\n",
    "  * To show files in the cwd, use\n",
    "\n",
    "    ```bash\n",
    "    ls\n",
    "    ```\n",
    "\n",
    "  * To change the cwd, use\n",
    "\n",
    "    ```bash\n",
    "    cd <path>   # \"change directory\"\n",
    "    ```\n",
    "\n",
    "  * Each Linux/macOS user has a **home directory**. To go there use:\n",
    "\n",
    "    ```bash\n",
    "    cd\n",
    "    ```"
   ]
  },
  {
   "cell_type": "markdown",
   "metadata": {
    "slideshow": {
     "slide_type": "subslide"
    }
   },
   "source": [
    "## Relative Paths\n",
    "\n",
    "  * Paths of the form\n",
    "    \n",
    "    ```bash\n",
    "    Directory1/Directory2/.../DirectoryN/FileName\n",
    "    ```\n",
    "\n",
    "    are relative to the current working directory. E.g., for the current working directory\n",
    "\n",
    "    ```bash\n",
    "    /a/b/c\n",
    "    ```\n",
    "\n",
    "    the path\n",
    "\n",
    "    ```bash\n",
    "    d/e/f\n",
    "    ```\n",
    "\n",
    "    is equivalent to\n",
    "\n",
    "    ```bash\n",
    "    /a/b/c/d/e/f\n",
    "    ```\n",
    "\n",
    "  * Relative paths can be used everywhere where a path is expected, e.g.\n",
    "    `cd` or `ls`."
   ]
  },
  {
   "cell_type": "markdown",
   "metadata": {
    "slideshow": {
     "slide_type": "subslide"
    }
   },
   "source": [
    "## Important Commands\n",
    "\n",
    "```bash\n",
    "cd <path>            # change CWS to <path>\n",
    "\n",
    "ls <path>            # list files in <path>\n",
    "ls -a <path>         # also list files starting with '.'\n",
    "ls -l <path>         # show additional information\n",
    "\n",
    "mkdir <path>         # create directory <path>\n",
    "cp <pathA> <pathB>   # copy file <pathA> to <pathB>\n",
    "mv <pathA> <pathB>   # move file from <pathA> to <pathB>\n",
    "\n",
    "rm <path>            # delete file <path> (no 'recycling bin')\n",
    "rmdir <path>         # delete empty directory <path>\n",
    "rm -r <path>         # recursively delete directory <path> \n",
    "                     # with all subdirectories\n",
    "                     \n",
    "cat <path>           # show content of file <path>\n",
    "less <path>          # interactively show content of file <path>\n",
    "                     # quit with 'q'\n",
    "man <command>        # show manual page for <command>\n",
    "```"
   ]
  },
  {
   "cell_type": "markdown",
   "metadata": {
    "slideshow": {
     "slide_type": "subslide"
    }
   },
   "source": [
    "## Launching Programs\n",
    "\n",
    "  * Installed programs have a path in the filesystem, using which they can be executed. E.g.\n",
    "\n",
    "    ```bash\n",
    "    /usr/bin/kate <path>\n",
    "    ```\n",
    "\n",
    "    opens the file `<path>` with the editor `kate`. \n",
    "\n",
    "  * Some directories, e.g. `/usr/bin` are always searched for executable program\n",
    "    (controlled by the `$PATH` variable).\n",
    "    Thus, we can also write\n",
    "\n",
    "    ```bash\n",
    "    kate <path>\n",
    "    ```"
   ]
  },
  {
   "cell_type": "markdown",
   "metadata": {
    "slideshow": {
     "slide_type": "subslide"
    }
   },
   "source": [
    "## Why bother?\n",
    "\n",
    "  * Shell commands are easier to describe than the usage of a GUI.\n",
    "\n",
    "  * Standardized (POSIX-Standard).\n",
    "\n",
    "  * Programmable.\n",
    "\n",
    "  * Complex tasks easier than with graphical file managers.\n",
    "\n",
    "  * It's easer to write a terminal-based program than a GUI program."
   ]
  },
  {
   "cell_type": "markdown",
   "metadata": {
    "slideshow": {
     "slide_type": "slide"
    }
   },
   "source": [
    "## Hello World"
   ]
  },
  {
   "cell_type": "markdown",
   "metadata": {
    "cell_style": "split"
   },
   "source": [
    "1. Save this script to a file `hello.py`\n",
    "\n",
    "2. Run the script by executing\n",
    "  ```shell\n",
    "  python3 hello.py\n",
    "  ```\n",
    "\n",
    "3. Make the script executable and run it:\n",
    "  ```shell\n",
    "  chmod u+x hello.py\n",
    "  ./hello.py\n",
    "  ```\n",
    "\n",
    "4. What happens if you replace `str(length)` by `length`"
   ]
  },
  {
   "cell_type": "code",
   "execution_count": null,
   "metadata": {
    "cell_style": "split"
   },
   "outputs": [],
   "source": [
    "#!/bin/bash\n",
    "name = input('Your name? ')\n",
    "length = len(name)\n",
    "if length == 0:\n",
    "    name = 'Nameless'\n",
    "\n",
    "print('Hello, ' + name + '!')\n",
    "print('Your name is ' + str(length)\n",
    "      + ' characters long.')"
   ]
  },
  {
   "cell_type": "markdown",
   "metadata": {
    "slideshow": {
     "slide_type": "subslide"
    }
   },
   "source": [
    "## A loop"
   ]
  },
  {
   "cell_type": "markdown",
   "metadata": {
    "cell_style": "split",
    "slideshow": {
     "slide_type": "-"
    }
   },
   "source": [
    " 1. Execute the following script\n",
    " \n",
    " 2. Compute the same sum by counting backwards\n",
    " \n",
    " 3. Compute the sum of the first $n$ square numbers."
   ]
  },
  {
   "cell_type": "code",
   "execution_count": 10,
   "metadata": {
    "cell_style": "split",
    "slideshow": {
     "slide_type": "-"
    }
   },
   "outputs": [
    {
     "name": "stdout",
     "output_type": "stream",
     "text": [
      "n = 10\n",
      "The sum of the first 10 natural numbers is 55\n"
     ]
    }
   ],
   "source": [
    "n = int(input('n = '))\n",
    "i = 1\n",
    "s = 0\n",
    "while i < n + 1:\n",
    "    s = s + i\n",
    "    i = i + 1\n",
    "print('The sum of the first', n,\n",
    "      'natural numbers is', s)"
   ]
  },
  {
   "cell_type": "markdown",
   "metadata": {
    "slideshow": {
     "slide_type": "subslide"
    }
   },
   "source": [
    "## Branching"
   ]
  },
  {
   "cell_type": "markdown",
   "metadata": {
    "cell_style": "split"
   },
   "source": [
    "1. Execute the following script.\n",
    "\n",
    "2. Replace `elif` by `else` and `if`"
   ]
  },
  {
   "cell_type": "code",
   "execution_count": 25,
   "metadata": {
    "cell_style": "split"
   },
   "outputs": [
    {
     "name": "stdout",
     "output_type": "stream",
     "text": [
      "1,2,Fizz,4,Buzz,Fizz,7,8,Fizz,Buzz,11,Fizz,13,14,FizzBuzz,16,17,Fizz,19,Buzz,Fizz,22,23,Fizz,Buzz,26,Fizz,28,29,FizzBuzz,31,32,Fizz,34,Buzz,Fizz,37,38,Fizz,Buzz,41,Fizz,43,44,FizzBuzz,46,47,Fizz,49,Buzz,Fizz,52,53,Fizz,Buzz,56,Fizz,58,59,FizzBuzz,61,62,Fizz,64,Buzz,Fizz,67,68,Fizz,Buzz,71,Fizz,73,74,FizzBuzz,76,77,Fizz,79,Buzz,Fizz,82,83,Fizz,Buzz,86,Fizz,88,89,FizzBuzz,91,92,Fizz,94,Buzz,Fizz,97,98,Fizz,Buzz,"
     ]
    }
   ],
   "source": [
    "i = 1\n",
    "while i < 100 + 1:\n",
    "    if i % (3 * 5) == 0:\n",
    "        print('FizzBuzz', end=',')\n",
    "    elif i % 3 == 0:\n",
    "        print('Fizz', end=',')\n",
    "    elif i % 5 == 0:\n",
    "        print('Buzz', end=',')\n",
    "    else:\n",
    "        print(i, end=',')\n",
    "    i = i + 1"
   ]
  },
  {
   "cell_type": "markdown",
   "metadata": {
    "slideshow": {
     "slide_type": "subslide"
    }
   },
   "source": [
    "## Lists"
   ]
  },
  {
   "cell_type": "markdown",
   "metadata": {
    "cell_style": "split"
   },
   "source": [
    "1. Execute the following script.\n",
    "\n",
    "2. The first index is **0**.\n",
    " \n",
    "3. Use negative indices to refer to the last elements of the list.\n",
    "\n",
    "4. Lists can be sliced as follows:\n",
    "   ```python\n",
    "   l[start:stop:step]\n",
    "   ```\n",
    "   **Slices are half-open intervals.**\n",
    "   \n",
    "   Print the last 5 Fibonacci numbers in reversed order."
   ]
  },
  {
   "cell_type": "code",
   "execution_count": 38,
   "metadata": {
    "cell_style": "split"
   },
   "outputs": [
    {
     "name": "stdout",
     "output_type": "stream",
     "text": [
      "[1, 1, 2, 3, 5, 8, 13, 21, 34, 55]\n"
     ]
    }
   ],
   "source": [
    "fibs = [1, 1]\n",
    "i = 2\n",
    "while i < 10:\n",
    "    fibs.append(fibs[i-2] + fibs[i-1])\n",
    "    i = i + 1\n",
    "print(fibs)"
   ]
  },
  {
   "cell_type": "markdown",
   "metadata": {
    "slideshow": {
     "slide_type": "subslide"
    }
   },
   "source": [
    "## for Loops"
   ]
  },
  {
   "cell_type": "markdown",
   "metadata": {
    "cell_style": "split"
   },
   "source": [
    "* Use\n",
    "  ```python\n",
    "  for <name> in <iterable>:\n",
    "      <block>\n",
    "  ```\n",
    "  to loop over the element of any given iterable \n",
    "  (e.g. a list)."
   ]
  },
  {
   "cell_type": "code",
   "execution_count": 40,
   "metadata": {
    "cell_style": "split"
   },
   "outputs": [
    {
     "name": "stdout",
     "output_type": "stream",
     "text": [
      "144\n"
     ]
    }
   ],
   "source": [
    "l = [4, 6, 3, 2]\n",
    "prod = 1\n",
    "for x in l:\n",
    "    prod = prod * x\n",
    "print(prod)"
   ]
  },
  {
   "cell_type": "markdown",
   "metadata": {
    "slideshow": {
     "slide_type": "subslide"
    }
   },
   "source": [
    "## Ranges"
   ]
  },
  {
   "cell_type": "markdown",
   "metadata": {
    "cell_style": "split"
   },
   "source": [
    "* To create a simple counting loop, use the\n",
    "  ```python\n",
    "  range(start, stop, step)\n",
    "  ```\n",
    "  iterable."
   ]
  },
  {
   "cell_type": "code",
   "execution_count": 41,
   "metadata": {
    "cell_style": "split"
   },
   "outputs": [
    {
     "name": "stdout",
     "output_type": "stream",
     "text": [
      "[5, 2, 4, 3, 2]\n",
      "[2, 4, 3, 2, 5]\n",
      "[2, 3, 2, 4, 5]\n",
      "[2, 2, 3, 4, 5]\n",
      "[2, 2, 3, 4, 5]\n",
      "[2, 2, 3, 4, 5]\n"
     ]
    }
   ],
   "source": [
    "l = [5, 2, 4, 3, 2]\n",
    "print(l)\n",
    "for i in range(len(l)):\n",
    "    for j in range(len(l) - 1):\n",
    "        if l[j] > l[j+1]:\n",
    "            x = l[j]\n",
    "            l[j] = l[j+1]\n",
    "            l[j+1] = x\n",
    "    print(l)"
   ]
  },
  {
   "cell_type": "markdown",
   "metadata": {
    "slideshow": {
     "slide_type": "subslide"
    }
   },
   "source": [
    "## Functions"
   ]
  },
  {
   "cell_type": "markdown",
   "metadata": {
    "cell_style": "split"
   },
   "source": [
    "What happens without the `return` statement?"
   ]
  },
  {
   "cell_type": "code",
   "execution_count": 45,
   "metadata": {
    "cell_style": "split"
   },
   "outputs": [
    {
     "name": "stdout",
     "output_type": "stream",
     "text": [
      "n = 10\n",
      "k = 3\n",
      "120\n"
     ]
    }
   ],
   "source": [
    "def binom(n, k):\n",
    "    fn = fac(n)\n",
    "    fk = fac(k)\n",
    "    fnk = fac(n-k)\n",
    "    c = fn // (fk * fnk)\n",
    "    return c\n",
    "    \n",
    "def fac(n):\n",
    "    val = 1\n",
    "    for k in range(1, n+1):\n",
    "        val = val * k\n",
    "    return val\n",
    "\n",
    "n = int(input('n = '))\n",
    "k = int(input('k = '))\n",
    "assert n >= k, 'n has to be larger than k!'\n",
    "print(binom(n, k))"
   ]
  },
  {
   "cell_type": "markdown",
   "metadata": {
    "slideshow": {
     "slide_type": "subslide"
    }
   },
   "source": [
    "## Local and global names"
   ]
  },
  {
   "cell_type": "markdown",
   "metadata": {
    "cell_style": "split"
   },
   "source": [
    "1. What happens when the following code is executed?\n",
    "\n",
    "2. What happens, when the first line of `f` is uncommented?\n",
    "\n",
    "3. What happens, when the second line of `f` is uncommented?\n",
    "\n",
    "4. What happens, when the last line of `f` is uncommented?\n",
    "\n",
    "5. What happens, when the second and last lines of `f` are uncommented?"
   ]
  },
  {
   "cell_type": "code",
   "execution_count": 52,
   "metadata": {
    "cell_style": "split"
   },
   "outputs": [
    {
     "name": "stdout",
     "output_type": "stream",
     "text": [
      "99\n",
      "99\n"
     ]
    }
   ],
   "source": [
    "def f():\n",
    "    # x = 1\n",
    "    # global x\n",
    "    print(x)\n",
    "    # x = 100\n",
    "\n",
    "x = 99\n",
    "f()\n",
    "print(x)"
   ]
  },
  {
   "cell_type": "markdown",
   "metadata": {},
   "source": [
    "**RULE:** A name is local, when it is a function argument or when it is the target of an assignment in the function body (and when it is not marked as `global`).\n"
   ]
  },
  {
   "cell_type": "markdown",
   "metadata": {
    "slideshow": {
     "slide_type": "subslide"
    }
   },
   "source": [
    "## Functions are objects"
   ]
  },
  {
   "cell_type": "markdown",
   "metadata": {},
   "source": [
    "* Functions are values that can be passed like any other value\n",
    "* With `lambda` expressions, functions can be created on-the-fly"
   ]
  },
  {
   "cell_type": "code",
   "execution_count": 57,
   "metadata": {},
   "outputs": [
    {
     "name": "stdout",
     "output_type": "stream",
     "text": [
      "1.5000000000000004\n",
      "0.33332500000000004\n"
     ]
    }
   ],
   "source": [
    "def integral(f, a, b, n):\n",
    "    h = (b - a) / n\n",
    "    result = 0.\n",
    "    for i in range(n):\n",
    "        result = result + f(a + 0.5*h + i*h) * h\n",
    "    return result\n",
    "\n",
    "def f1(x):\n",
    "    return x*3\n",
    "\n",
    "print(integral(f1, 0., 1., 10))\n",
    "print(integral(lambda x:x**2, 0., 1., 100))"
   ]
  },
  {
   "cell_type": "markdown",
   "metadata": {
    "slideshow": {
     "slide_type": "subslide"
    }
   },
   "source": [
    "## Extension modules"
   ]
  },
  {
   "cell_type": "markdown",
   "metadata": {
    "cell_style": "split"
   },
   "source": [
    "* Extension modules need to be `import`ed before being available in the script.\n",
    "* The [standard library](https://docs.python.org/3/library/index.html) modules are always available.\n",
    "* Third-party modules are usually hosted on [PyPI](https://pypi.org)"
   ]
  },
  {
   "cell_type": "code",
   "execution_count": 86,
   "metadata": {
    "cell_style": "split"
   },
   "outputs": [
    {
     "name": "stdout",
     "output_type": "stream",
     "text": [
      "error: 0.004407346410206792 \n",
      "duration: 0.02208113670349121\n"
     ]
    }
   ],
   "source": [
    "import time\n",
    "from random import uniform\n",
    "import math as m\n",
    "\n",
    "N = 10000\n",
    "tic = time.time()\n",
    "hits = 0\n",
    "for i in range(N):\n",
    "    x = uniform(-1, 1)\n",
    "    y = uniform(-1, 1)\n",
    "    if x**2 + y**2 < 1:\n",
    "        hits = hits + 1\n",
    "\n",
    "pi_approx = 4 * (hits / N)\n",
    "print('error:', pi_approx - m.pi,\n",
    "      '\\nduration:', time.time() - tic)"
   ]
  }
 ],
 "metadata": {
  "celltoolbar": "Slideshow",
  "kernelspec": {
   "display_name": "Python 3",
   "language": "python",
   "name": "python3"
  },
  "language_info": {
   "codemirror_mode": {
    "name": "ipython",
    "version": 3
   },
   "file_extension": ".py",
   "mimetype": "text/x-python",
   "name": "python",
   "nbconvert_exporter": "python",
   "pygments_lexer": "ipython3",
   "version": "3.5.3"
  }
 },
 "nbformat": 4,
 "nbformat_minor": 2
}
