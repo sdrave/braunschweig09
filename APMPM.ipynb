{
 "cells": [
  {
   "cell_type": "markdown",
   "metadata": {
    "slideshow": {
     "slide_type": "slide"
    }
   },
   "source": [
    "# Anti-Patterns and Minimal Project Management"
   ]
  },
  {
   "cell_type": "markdown",
   "metadata": {
    "slideshow": {
     "slide_type": "slide"
    }
   },
   "source": [
    "# Anti-Patterns\n",
    "\n",
    "for more: https://en.wikipedia.org/wiki/Anti-pattern"
   ]
  },
  {
   "cell_type": "markdown",
   "metadata": {
    "slideshow": {
     "slide_type": "subslide"
    }
   },
   "source": [
    "## Not Invented Here\n",
    "\n",
    "### Description\n",
    "* The aversion to use libraries written by other developers / groups.\n",
    "\n",
    "### Symptoms\n",
    "* Problems are solved that have already been solved.\n",
    "* Inferior technology is used to solve a problem.\n",
    "\n",
    "### How to avoid\n",
    "* Before starting a project, keep an open mind and evaluate existing solutions.\n",
    "* If a library lacks some feature, consider contributing.\n",
    "* Think of all the possibilities for collaboration (-> papers)."
   ]
  },
  {
   "cell_type": "markdown",
   "metadata": {
    "slideshow": {
     "slide_type": "subslide"
    }
   },
   "source": [
    "## Silver Bullet\n",
    "\n",
    "### Description\n",
    "* The believe that a single technology is suitable to solve all problems. \n",
    "\n",
    "### Symptoms\n",
    "* Inferior technology is used to solve a problem.\n",
    "* Example: C++ is used even for simple experiments.\n",
    "* Example: Python code is heavily optimized where a rewrite in C++ would be beneficial.\n",
    "* Example: Implementation from scratch in Python while a MATLAB library with most functionality is available.\n",
    "\n",
    "### How to avoid\n",
    "* Before starting a project, evaluate which technology is most suitable.\n",
    "* When the project grows, re-evaluate."
   ]
  },
  {
   "cell_type": "markdown",
   "metadata": {
    "slideshow": {
     "slide_type": "subslide"
    }
   },
   "source": [
    "## Big Ball of Mud\n",
    "\n",
    "### Description\n",
    "* A big ball of mud is a software system that lacks a perceivable architecture.\n",
    "* Code is 'grown'.\n",
    "\n",
    "### Symptoms\n",
    "* Nobody understands how the code really works.\n",
    "* Every change breaks things.\n",
    "\n",
    "### How to avoid\n",
    "* Refactor code from time to time.\n",
    "* Take time to think about overall architecture.\n",
    "* Remove obsolete features.\n",
    "* Write tests."
   ]
  },
  {
   "cell_type": "markdown",
   "metadata": {
    "slideshow": {
     "slide_type": "subslide"
    }
   },
   "source": [
    "## Dead Code\n",
    "\n",
    "### Description\n",
    "* The agglomeration of non-functional untested code.\n",
    "* Kept because it 'might be useful' in the future.\n",
    "* Commented out code.\n",
    "* Broken methods / argument combinations.\n",
    "* Stale development branches.\n",
    "\n",
    "### Symptoms\n",
    "* Unknown what works and what not.\n",
    "* Expectedly failing tests.\n",
    "\n",
    "### How to avoid\n",
    "* Remove broken code.\n",
    "* Delete stale branches.\n",
    "* Merge into working code."
   ]
  },
  {
   "cell_type": "markdown",
   "metadata": {
    "slideshow": {
     "slide_type": "subslide"
    }
   },
   "source": [
    "## Analysis Paralysis\n",
    "\n",
    "\n",
    "### Description\n",
    "* The tendency to over-think a software design problem.\n",
    "\n",
    "### Symptoms\n",
    "* Development does not progress.\n",
    "* Problem is not solved, even badly.\n",
    "\n",
    "### How to avoid\n",
    "* At some point, just start to code.\n",
    "* Refactor later."
   ]
  },
  {
   "cell_type": "markdown",
   "metadata": {
    "slideshow": {
     "slide_type": "subslide"
    }
   },
   "source": [
    "## Bikeshedding\n",
    "\n",
    "### Description\n",
    "* Giving disproportionate weight to trivial issues.\n",
    "* Avoiding hard issues.\n",
    "\n",
    "### Symptoms\n",
    "* Software has great gimmicks but lacks core features.\n",
    "* Development time is wasted.\n",
    "\n",
    "### How to avoid\n",
    "* Take time to think about which features are important."
   ]
  },
  {
   "cell_type": "markdown",
   "metadata": {
    "slideshow": {
     "slide_type": "subslide"
    }
   },
   "source": [
    "## Overengineering\n",
    "\n",
    "### Description\n",
    "* The tendency to develop unnecessarily complex solutions to accommodate each possible use case.\n",
    "\n",
    "### Symptoms\n",
    "* Code is overly complicated.\n",
    "* Slow development.\n",
    "\n",
    "### How to avoid\n",
    "* Try to focus on the most important use cases.\n",
    "* Start with simple scripts and generalize only when needed."
   ]
  },
  {
   "cell_type": "markdown",
   "metadata": {
    "slideshow": {
     "slide_type": "subslide"
    }
   },
   "source": [
    "## Premature Optimization\n",
    "\n",
    "### Description\n",
    "* The tendency to optimize code while not all functionality has been implemented.\n",
    "\n",
    "### Symptoms\n",
    "* Code is optimized that does not contribute to the overall runtime.\n",
    "* Development time is spent on useless optimization.\n",
    "* Code becomes unnecessarily hard to understand.\n",
    "\n",
    "### How to avoid\n",
    "* First implement all feature.\n",
    "* Worry about performance later.\n",
    "\n",
    "> We should forget about small efficiencies, say about 97% of the time: premature optimization is the root of all evil. Yet we should not pass up our opportunities in that critical 3%. -- Donald Knuth\n",
    "\n"
   ]
  },
  {
   "cell_type": "markdown",
   "metadata": {
    "slideshow": {
     "slide_type": "subslide"
    }
   },
   "source": [
    "## Magic Numbers\n",
    "\n",
    "\n",
    "### Description\n",
    "* The usage of numerical constants in the implementation of algorithms.\n",
    "\n",
    "### Symptoms\n",
    "* 'A tolerance of 1e-5 should be good enough for everybody.'\n",
    "* Algorithms suddenly misbehave.\n",
    "* Tolerances cannot be changed without hacking the code.\n",
    "\n",
    "### How to avoid\n",
    "* Make magic numbers the default values of optional arguments.\n",
    "* Use global constants."
   ]
  },
  {
   "cell_type": "markdown",
   "metadata": {
    "slideshow": {
     "slide_type": "subslide"
    }
   },
   "source": [
    "## Useless Classes\n",
    "\n",
    "\n",
    "### Description\n",
    "* The usage of object orientation where it offers no benefit.\n",
    "\n",
    "### Symptoms\n",
    "* Code is overly complicated.\n",
    "* You advertise your code as object-oriented.\n",
    "\n",
    "### How to avoid\n",
    "* Ask yourself if there is really a benefit in defining a class.\n",
    "* A class with only one method that does not mutate any data is probably unneeded.\n",
    "* Wrapping algorithms in classes is often unnecessary."
   ]
  },
  {
   "cell_type": "markdown",
   "metadata": {
    "slideshow": {
     "slide_type": "subslide"
    }
   },
   "source": [
    "## Global State\n",
    "\n",
    "### Description\n",
    "* The usage of global variables to store program state.\n",
    "\n",
    "### Symptoms\n",
    "* Code cannot be parallelized.\n",
    "* Unclear when and where the state is modified and what the consequences are.\n",
    "\n",
    "### How to avoid\n",
    "* Create and pass object that store the relevant state.\n",
    "* Share state only where needed."
   ]
  },
  {
   "cell_type": "markdown",
   "metadata": {
    "slideshow": {
     "slide_type": "slide"
    }
   },
   "source": [
    "# Minimal Project Management"
   ]
  },
  {
   "cell_type": "markdown",
   "metadata": {
    "slideshow": {
     "slide_type": "subslide"
    }
   },
   "source": [
    "## Code Availability\n",
    "\n",
    "* Ensure that current source code and data is always available at a secure location.\n",
    "* Ensure that the source code and data used for your individual publications is available.\n",
    "* Consider using a dedicated server for your group where all code is stored.\n",
    "* Consider publishing the code on [Zenodo](https://zenodo.com).\n",
    "* Consider publishing the code as supplementary material to your publication."
   ]
  },
  {
   "cell_type": "markdown",
   "metadata": {
    "slideshow": {
     "slide_type": "subslide"
    }
   },
   "source": [
    "## Use Version Control\n",
    "* Use a version control system to keep track of your development history.\n",
    "* Use a version control system to collaborate with others.\n",
    "* Use a version control system to backup your work to a server.\n",
    "* Create **tags** to keep track of state used for publications, etc.\n",
    "* Consider deploying [GitLab](https://gitlab.com) for your group. Use [GitHub](http://github.com)."
   ]
  },
  {
   "cell_type": "markdown",
   "metadata": {
    "slideshow": {
     "slide_type": "subslide"
    }
   },
   "source": [
    "## Working Example\n",
    "* Store at least one working example with your code so that others can understand what it does.\n",
    "* Document how to execute the working example."
   ]
  },
  {
   "cell_type": "markdown",
   "metadata": {
    "slideshow": {
     "slide_type": "subslide"
    }
   },
   "source": [
    "## Code Ownership\n",
    "* Find out / document who owns the code.\n",
    "* Decide what should happen with your code after you stop working on it.\n",
    "* Establish a policy in your group.\n",
    "* Consider choosing a software license."
   ]
  },
  {
   "cell_type": "markdown",
   "metadata": {
    "slideshow": {
     "slide_type": "subslide"
    }
   },
   "source": [
    "## Document Execution Environment\n",
    "\n",
    "* Document on which machine the code is working.\n",
    "* Which operating system?\n",
    "* Which Python versions?\n",
    "* Output of `pip freeze`."
   ]
  },
  {
   "cell_type": "markdown",
   "metadata": {
    "slideshow": {
     "slide_type": "subslide"
    }
   },
   "source": [
    "## Reproducible Execution Environment\n",
    "* Create a [virtual machine](https://virtualbox.org) with a working version of your code.\n",
    "* Provide instructions for installing your code in a well-defined operating system environment (e.g. Ubuntu 18.04 after default installation)"
   ]
  },
  {
   "cell_type": "markdown",
   "metadata": {
    "slideshow": {
     "slide_type": "subslide"
    }
   },
   "source": [
    "## Minimal Documentation\n",
    "\n",
    "* Write a `README` with some minimal information about the project.\n",
    "* What does the software do?\n",
    "* Is there an associated publication?\n",
    "* Who is the author?\n",
    "* Minimal usage documentation?"
   ]
  }
 ],
 "metadata": {
  "celltoolbar": "Slideshow",
  "kernelspec": {
   "display_name": "Python 3",
   "language": "python",
   "name": "python3"
  },
  "language_info": {
   "codemirror_mode": {
    "name": "ipython",
    "version": 3
   },
   "file_extension": ".py",
   "mimetype": "text/x-python",
   "name": "python",
   "nbconvert_exporter": "python",
   "pygments_lexer": "ipython3",
   "version": "3.5.3"
  }
 },
 "nbformat": 4,
 "nbformat_minor": 2
}
