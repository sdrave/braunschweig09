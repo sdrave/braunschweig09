{
 "cells": [
  {
   "cell_type": "markdown",
   "metadata": {
    "slideshow": {
     "slide_type": "slide"
    }
   },
   "source": [
    "# Four in a Row\n",
    "\n",
    "Implement a 'four in a row' game with Python!\n",
    "\n",
    "* Rules can be found [here](https://en.wikipedia.org/wiki/Connect_Four)\n",
    "\n",
    "* Write a class `GameBoard` which manages the current state of the game.\n",
    "  * What attributes should `GameBoard` have?\n",
    "  * What methods should `GameBoard` have?\n",
    "  \n",
    "* Write a simple user interface for playing the game.\n",
    "\n",
    "* Track your development using git.\n",
    "\n",
    "* Write unit tests for your program. Try a TTD approach.\n"
   ]
  },
  {
   "cell_type": "markdown",
   "metadata": {
    "slideshow": {
     "slide_type": "slide"
    }
   },
   "source": [
    "# Four in a Row - Advanced\n",
    "\n",
    "* Write a simple AI as an opponent.\n",
    "\n",
    "* Write another AI. Let the AIs play against each other.\n",
    "\n",
    "* Use a profiler to find performance bottlenecks.\n",
    "\n",
    "* Optimize your code using Cython, C++ or Numba.\n",
    "\n",
    "* Parallelize your AI.\n",
    "\n",
    "\n"
   ]
  }
 ],
 "metadata": {
  "celltoolbar": "Slideshow",
  "kernelspec": {
   "display_name": "Python 3",
   "language": "python",
   "name": "python3"
  },
  "language_info": {
   "codemirror_mode": {
    "name": "ipython",
    "version": 3
   },
   "file_extension": ".py",
   "mimetype": "text/x-python",
   "name": "python",
   "nbconvert_exporter": "python",
   "pygments_lexer": "ipython3",
   "version": "3.5.3"
  }
 },
 "nbformat": 4,
 "nbformat_minor": 2
}
