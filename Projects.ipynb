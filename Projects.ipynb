{
 "cells": [
  {
   "cell_type": "markdown",
   "metadata": {
    "slideshow": {
     "slide_type": "slide"
    }
   },
   "source": [
    "# Connect Four\n",
    "\n",
    "Implement a 'connect four' game with Python!\n",
    "\n",
    "* Rules can be found [here](https://en.wikipedia.org/wiki/Connect_Four)\n",
    "\n",
    "* Write a class `GameBoard` which manages the current state of the game.\n",
    "  * What attributes should `GameBoard` have?\n",
    "  * What methods should `GameBoard` have?\n",
    "  \n",
    "* Write a simple user interface for playing the game.\n",
    "\n",
    "* Track your development using git.\n",
    "\n",
    "* Write unit tests for your program. Try a TDD approach.\n"
   ]
  },
  {
   "cell_type": "markdown",
   "metadata": {
    "slideshow": {
     "slide_type": "subslide"
    }
   },
   "source": [
    "# Connect Four - Advanced\n",
    "\n",
    "* Write a simple AI as an opponent.\n",
    "\n",
    "* Write another AI. Let the AIs play against each other.\n",
    "\n",
    "* Use a profiler to find performance bottlenecks.\n",
    "\n",
    "* Optimize your code using Cython, C or Numba.\n",
    "\n",
    "* Parallelize your AI.\n",
    "\n",
    "\n"
   ]
  },
  {
   "cell_type": "markdown",
   "metadata": {
    "slideshow": {
     "slide_type": "slide"
    }
   },
   "source": [
    "## Pairwise Distance\n",
    "\n",
    "Given vectors $v_i \\in \\mathbb{R}^n$, $1 \\leq j \\leq J$ compute the matrix of pairwise distances\n",
    "\n",
    "$$\n",
    "D_{i, j} = \\|v_i - v_j \\| \\qquad 1 \\leq i, j \\leq J\n",
    "$$\n",
    "\n",
    "* Write a NumPy-based code using `for` loops over `i`, `j`.\n",
    "* Can you find a vectorized implementation using NumPy (hint: use broadcasting)?\n",
    "* Use `numpy.einsum` for another NumPy-based implementation.\n",
    "* Write a Numba implementation.\n",
    "* Write a Cython implementation.\n",
    "* Parallelize.\n",
    "* Plot the runtime over $J$ and $d$."
   ]
  }
 ],
 "metadata": {
  "celltoolbar": "Slideshow",
  "kernelspec": {
   "display_name": "Python 3",
   "language": "python",
   "name": "python3"
  },
  "language_info": {
   "codemirror_mode": {
    "name": "ipython",
    "version": 3
   },
   "file_extension": ".py",
   "mimetype": "text/x-python",
   "name": "python",
   "nbconvert_exporter": "python",
   "pygments_lexer": "ipython3",
   "version": "3.7.2"
  }
 },
 "nbformat": 4,
 "nbformat_minor": 2
}
