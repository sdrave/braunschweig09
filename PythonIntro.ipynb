{
 "cells": [
  {
   "cell_type": "code",
   "execution_count": 250,
   "metadata": {
    "slideshow": {
     "slide_type": "skip"
    }
   },
   "outputs": [
    {
     "data": {
      "text/html": [
       "<style>\n",
       "div.text_cell_render.rendered_html {\n",
       "overflow-x: hidden !important;\n",
       "}\n",
       "code {\n",
       "    max-height: unset !important;\n",
       "}\n",
       "body.rise-enabled div.inner_cell>div.input_area {\n",
       "    font-size: 150%;\n",
       "}\n",
       "\n",
       "body.rise-enabled div.output_subarea.output_text.output_result {\n",
       "    font-size: 150%;\n",
       "}\n",
       "body.rise-enabled div.output_subarea.output_text.output_error {\n",
       "    font-size: 150%;\n",
       "}\n",
       "\n",
       "body.rise-enabled div.output_subarea.output_text.output_stream.output_stdout {\n",
       "  font-size: 150%;\n",
       "}\n",
       "\n",
       "div.prompt {display:none}\n",
       "</style>\n"
      ],
      "text/plain": [
       "<IPython.core.display.HTML object>"
      ]
     },
     "metadata": {},
     "output_type": "display_data"
    }
   ],
   "source": [
    "%%html\n",
    "<style>\n",
    "div.text_cell_render.rendered_html {\n",
    "overflow-x: hidden !important;\n",
    "}\n",
    "code {\n",
    "    max-height: unset !important;\n",
    "}\n",
    "body.rise-enabled div.inner_cell>div.input_area {\n",
    "    font-size: 150%;\n",
    "}\n",
    "\n",
    "body.rise-enabled div.output_subarea.output_text.output_result {\n",
    "    font-size: 150%;\n",
    "}\n",
    "body.rise-enabled div.output_subarea.output_text.output_error {\n",
    "    font-size: 150%;\n",
    "}\n",
    "\n",
    "body.rise-enabled div.output_subarea.output_text.output_stream.output_stdout {\n",
    "  font-size: 150%;\n",
    "}\n",
    "\n",
    "div.prompt {display:none}\n",
    "</style>\n"
   ]
  },
  {
   "cell_type": "markdown",
   "metadata": {
    "slideshow": {
     "slide_type": "slide"
    }
   },
   "source": [
    "## About Myself\n",
    "\n",
    "* Diplom in Mathematics and Mathematical Logic.\n",
    "* PhD in Noncommutative Geometry.\n",
    "* Since then researcher in group of Mario Ohlberger, Münster.\n",
    "* Main field: Model Order Reduction of Parameterized PDEs.\n",
    "* Main developer of [pyMOR](https://pymor.org).\n",
    "* Languages: **Python**, C++, Pascal, Matlab, Assembler."
   ]
  },
  {
   "cell_type": "markdown",
   "metadata": {
    "slideshow": {
     "slide_type": "slide"
    }
   },
   "source": [
    "## The Shell\n",
    "\n",
    "  * The shell is a text-based program that allows the user to perform \n",
    "        - file operations (move, copy, delete)\n",
    "        - execute programs\n",
    "\n",
    "  * In graphical desktop environments a **terminal** application is used\n",
    "    to manage text input and output.\n",
    "    The terminal talks to the shell program.\n",
    "\n",
    "  * Most commonly used shell under Linux/macOS is **bash**. Further shells\n",
    "    are e.g. `zsh` and `fish`.\n",
    "\n",
    "  * On Windows the **command prompt** (`command.com`) is a rudimentary\n",
    "    shell. `Powershell` is a common alternative."
   ]
  },
  {
   "cell_type": "markdown",
   "metadata": {
    "slideshow": {
     "slide_type": "subslide"
    }
   },
   "source": [
    "## Directories (a.k.a. Folders)\n",
    "\n",
    "  * On Linux/macOS/Android/iOS, each file has a unique **path**\n",
    "    of the form\n",
    "\n",
    "    ```bash\n",
    "    /Directory1/Directory2/.../DirectoryN/FileName\n",
    "    ```\n",
    "\n",
    "  * Filenames are case sensitive:\n",
    "  \n",
    "    ```bash\n",
    "    /foo  !=   /Foo\n",
    "    ```\n",
    "\n",
    "  * The directory `/` is called the **root directory**.\n",
    "\n",
    "  * To show the files in directory `<path>`, use shell command\n",
    "\n",
    "    ```bash\n",
    "    ls <path> \n",
    "    ```"
   ]
  },
  {
   "cell_type": "markdown",
   "metadata": {
    "slideshow": {
     "slide_type": "subslide"
    }
   },
   "source": [
    "## Current Working Directory\n",
    "\n",
    "  * The shell always has a **current working directory (cwd)** that can be shown using\n",
    "\n",
    "    ```bash\n",
    "    pwd     # \"print working directory\"\n",
    "    ```\n",
    "\n",
    "  * To show files in the cwd, use\n",
    "\n",
    "    ```bash\n",
    "    ls\n",
    "    ```\n",
    "\n",
    "  * To change the cwd, use\n",
    "\n",
    "    ```bash\n",
    "    cd <path>   # \"change directory\"\n",
    "    ```\n",
    "\n",
    "  * Each Linux/macOS user has a **home directory**. To go there use:\n",
    "\n",
    "    ```bash\n",
    "    cd\n",
    "    ```"
   ]
  },
  {
   "cell_type": "markdown",
   "metadata": {
    "slideshow": {
     "slide_type": "subslide"
    }
   },
   "source": [
    "## Relative Paths\n",
    "\n",
    "  * Paths of the form\n",
    "    \n",
    "    ```bash\n",
    "    Directory1/Directory2/.../DirectoryN/FileName\n",
    "    ```\n",
    "\n",
    "    are relative to the current working directory. E.g., for the current working directory\n",
    "\n",
    "    ```bash\n",
    "    /a/b/c\n",
    "    ```\n",
    "\n",
    "    the path\n",
    "\n",
    "    ```bash\n",
    "    d/e/f\n",
    "    ```\n",
    "\n",
    "    is equivalent to\n",
    "\n",
    "    ```bash\n",
    "    /a/b/c/d/e/f\n",
    "    ```\n",
    "\n",
    "  * Relative paths can be used everywhere where a path is expected, e.g. with\n",
    "    `cd` or `ls`."
   ]
  },
  {
   "cell_type": "markdown",
   "metadata": {
    "slideshow": {
     "slide_type": "subslide"
    }
   },
   "source": [
    "## Important Commands\n",
    "\n",
    "```bash\n",
    "cd <path>            # change CWD to <path>\n",
    "\n",
    "ls <path>            # list files in <path>\n",
    "ls -a <path>         # also list files starting with '.'\n",
    "ls -l <path>         # show additional information\n",
    "\n",
    "mkdir <path>         # create directory <path>\n",
    "cp <pathA> <pathB>   # copy file <pathA> to <pathB>\n",
    "mv <pathA> <pathB>   # move file from <pathA> to <pathB>\n",
    "\n",
    "rm <path>            # delete file <path> (no 'recycling bin')\n",
    "rmdir <path>         # delete empty directory <path>\n",
    "rm -r <path>         # recursively delete directory <path> \n",
    "                     # with all subdirectories\n",
    "                     \n",
    "cat <path>           # show content of file <path>\n",
    "less <path>          # interactively show content of file <path>\n",
    "                     # quit with 'q'\n",
    "man <command>        # show manual page for <command>\n",
    "```"
   ]
  },
  {
   "cell_type": "markdown",
   "metadata": {
    "slideshow": {
     "slide_type": "subslide"
    }
   },
   "source": [
    "## Launching Programs\n",
    "\n",
    "  * Installed programs have a path in the filesystem, using which they can be executed. E.g.\n",
    "\n",
    "    ```bash\n",
    "    /usr/bin/kate <path>\n",
    "    ```\n",
    "\n",
    "    opens the file `<path>` with the editor `kate`. \n",
    "\n",
    "  * Some directories, e.g. `/usr/bin` are always searched for executable programs\n",
    "    (controlled by the `$PATH` variable).\n",
    "    Thus, we can also write\n",
    "\n",
    "    ```bash\n",
    "    kate <path>\n",
    "    ```"
   ]
  },
  {
   "cell_type": "markdown",
   "metadata": {
    "slideshow": {
     "slide_type": "subslide"
    }
   },
   "source": [
    "## Why Bother?\n",
    "\n",
    "  * Shell commands are easier to describe than the usage of a GUI.\n",
    "\n",
    "  * Standardized (POSIX-Standard).\n",
    "\n",
    "  * Programmable.\n",
    "\n",
    "  * Complex tasks easier than with graphical file managers.\n",
    "\n",
    "  * It's easer to write a terminal-based program than a GUI program."
   ]
  },
  {
   "cell_type": "markdown",
   "metadata": {
    "slideshow": {
     "slide_type": "slide"
    }
   },
   "source": [
    "## Python\n",
    "* [Very](https://www.tiobe.com/tiobe-index/) [popular](https://spectrum.ieee.org/static/interactive-the-top-programming-languages-2018) general purpose language.\n",
    "* Used in [production](https://en.wikipedia.org/wiki/List_of_Python_software) at [large scale](https://www.python.org/about/quotes/).\n",
    "* [Free and open source](https://fsf.org).\n",
    "* [Clean](https://www.python.org/dev/peps/pep-0020/) and expressive language.\n",
    "* Comes in versions 2 and 3. [Use](https://pythonclock.org/) version 2!\n",
    "* Support for all major [platforms](https://www.python.org/downloads/).\n",
    "* On Windows, use [Anaconda](https://www.anaconda.com/distribution/)."
   ]
  },
  {
   "cell_type": "markdown",
   "metadata": {
    "slideshow": {
     "slide_type": "slide"
    }
   },
   "source": [
    "## Hello World"
   ]
  },
  {
   "cell_type": "markdown",
   "metadata": {
    "cell_style": "split"
   },
   "source": [
    "1. Save this script to a file `hello.py`.\n",
    "\n",
    "2. Run the script by executing\n",
    "  ```shell\n",
    "  python3 hello.py\n",
    "  ```\n",
    "\n",
    "3. Make the script executable and run it:\n",
    "  ```shell\n",
    "  chmod u+x hello.py\n",
    "  ./hello.py\n",
    "  ```\n",
    "\n",
    "4. What happens when you replace `str(length)` by `length`"
   ]
  },
  {
   "cell_type": "code",
   "execution_count": null,
   "metadata": {
    "cell_style": "split"
   },
   "outputs": [],
   "source": [
    "#!/bin/bash\n",
    "name = input('Your name? ')\n",
    "length = len(name)\n",
    "if length == 0:\n",
    "    name = 'Nameless'\n",
    "\n",
    "print('Hello, ' + name + '!')\n",
    "print('Your name is ' + str(length)\n",
    "      + ' characters long.')"
   ]
  },
  {
   "cell_type": "markdown",
   "metadata": {
    "slideshow": {
     "slide_type": "subslide"
    }
   },
   "source": [
    "## A Loop"
   ]
  },
  {
   "cell_type": "markdown",
   "metadata": {
    "cell_style": "split",
    "slideshow": {
     "slide_type": "-"
    }
   },
   "source": [
    " 1. Execute the following script\n",
    " \n",
    " 2. Compute the same sum by counting backwards\n",
    " \n",
    " 3. Compute the sum of the first $n$ square numbers."
   ]
  },
  {
   "cell_type": "code",
   "execution_count": null,
   "metadata": {
    "cell_style": "split",
    "slideshow": {
     "slide_type": "-"
    }
   },
   "outputs": [],
   "source": [
    "n = int(input('n = '))\n",
    "i = 1\n",
    "s = 0\n",
    "while i < n + 1:\n",
    "    s = s + i\n",
    "    i = i + 1\n",
    "print('The sum of the first', n,\n",
    "      'natural numbers is', s)"
   ]
  },
  {
   "cell_type": "markdown",
   "metadata": {
    "slideshow": {
     "slide_type": "subslide"
    }
   },
   "source": [
    "## Branching"
   ]
  },
  {
   "cell_type": "markdown",
   "metadata": {
    "cell_style": "split"
   },
   "source": [
    "1. Execute the following script.\n",
    "\n",
    "2. Replace `elif` by `else` and `if`.\n",
    "\n",
    "**Warning:** Indentation needs to be consistent! Configure your editor to use 4 `<space>` characters as `<tab>`!"
   ]
  },
  {
   "cell_type": "code",
   "execution_count": null,
   "metadata": {
    "cell_style": "split"
   },
   "outputs": [],
   "source": [
    "i = 1\n",
    "while i < 100 + 1:\n",
    "    if i % (3 * 5) == 0:\n",
    "        print('FizzBuzz', end=',')\n",
    "    elif i % 3 == 0:\n",
    "        print('Fizz', end=',')\n",
    "    elif i % 5 == 0:\n",
    "        print('Buzz', end=',')\n",
    "    else:\n",
    "        print(i, end=',')\n",
    "    i = i + 1"
   ]
  },
  {
   "cell_type": "markdown",
   "metadata": {
    "slideshow": {
     "slide_type": "subslide"
    }
   },
   "source": [
    "## Lists"
   ]
  },
  {
   "cell_type": "markdown",
   "metadata": {
    "cell_style": "split"
   },
   "source": [
    "1. Execute the following script.\n",
    "\n",
    "2. **The first index is 0**.\n",
    " \n",
    "3. Use negative indices to refer to the last elements of the list.\n",
    "\n",
    "4. Lists can be sliced as follows:\n",
    "   ```python\n",
    "   l[start:stop:step]\n",
    "   ```\n",
    "   **Slices are half-open intervals.**\n",
    "   \n",
    "   Print the last 5 Fibonacci numbers in reversed order."
   ]
  },
  {
   "cell_type": "code",
   "execution_count": null,
   "metadata": {
    "cell_style": "split"
   },
   "outputs": [],
   "source": [
    "fibs = [1, 1]\n",
    "i = 2\n",
    "while i < 10:\n",
    "    fibs.append(fibs[i-2] + fibs[i-1])\n",
    "    i = i + 1\n",
    "print(fibs)"
   ]
  },
  {
   "cell_type": "markdown",
   "metadata": {
    "slideshow": {
     "slide_type": "subslide"
    }
   },
   "source": [
    "## for Loops"
   ]
  },
  {
   "cell_type": "markdown",
   "metadata": {
    "cell_style": "split"
   },
   "source": [
    "* Use\n",
    "  ```python\n",
    "  for <name> in <iterable>:\n",
    "      <block>\n",
    "  ```\n",
    "  to loop over the elements of any given iterable \n",
    "  (e.g. a list)."
   ]
  },
  {
   "cell_type": "code",
   "execution_count": null,
   "metadata": {
    "cell_style": "split"
   },
   "outputs": [],
   "source": [
    "l = [4, 6, 3, 2]\n",
    "prod = 1\n",
    "for x in l:\n",
    "    prod = prod * x\n",
    "print(prod)"
   ]
  },
  {
   "cell_type": "markdown",
   "metadata": {
    "slideshow": {
     "slide_type": "subslide"
    }
   },
   "source": [
    "## Ranges"
   ]
  },
  {
   "cell_type": "markdown",
   "metadata": {
    "cell_style": "split"
   },
   "source": [
    "* To create a simple counting loop, use the\n",
    "  ```python\n",
    "  range(start, stop, step)\n",
    "  ```\n",
    "  iterable.\n",
    "* ```python\n",
    "  range(N)\n",
    "  ```\n",
    "  is equivalent to\n",
    "  ```python\n",
    "  range(0, N, 1)\n",
    "  ```"
   ]
  },
  {
   "cell_type": "code",
   "execution_count": null,
   "metadata": {
    "cell_style": "split"
   },
   "outputs": [],
   "source": [
    "l = [5, 2, 4, 3, 2]\n",
    "print(l)\n",
    "for i in range(len(l)):\n",
    "    for j in range(len(l) - 1):\n",
    "        if l[j] > l[j+1]:\n",
    "            x = l[j]\n",
    "            l[j] = l[j+1]\n",
    "            l[j+1] = x\n",
    "    print(l)"
   ]
  },
  {
   "cell_type": "markdown",
   "metadata": {
    "slideshow": {
     "slide_type": "subslide"
    }
   },
   "source": [
    "## Functions"
   ]
  },
  {
   "cell_type": "markdown",
   "metadata": {
    "cell_style": "split"
   },
   "source": [
    "1. Execute the following script.\n",
    "\n",
    "2. What happens without the `return` statement?"
   ]
  },
  {
   "cell_type": "code",
   "execution_count": null,
   "metadata": {
    "cell_style": "split"
   },
   "outputs": [],
   "source": [
    "def binom(n, k):\n",
    "    fn = fac(n)\n",
    "    fk = fac(k)\n",
    "    fnk = fac(n-k)\n",
    "    c = fn // (fk * fnk)\n",
    "    return c\n",
    "    \n",
    "def fac(n):\n",
    "    val = 1\n",
    "    for k in range(1, n+1):\n",
    "        val = val * k\n",
    "    return val\n",
    "\n",
    "n = int(input('n = '))\n",
    "k = int(input('k = '))\n",
    "assert n >= k, 'k smaller than n!'\n",
    "print(binom(n, k))"
   ]
  },
  {
   "cell_type": "markdown",
   "metadata": {
    "slideshow": {
     "slide_type": "subslide"
    }
   },
   "source": [
    "## Local and Global Names"
   ]
  },
  {
   "cell_type": "markdown",
   "metadata": {
    "cell_style": "split"
   },
   "source": [
    "1. What happens when the following code is executed?\n",
    "\n",
    "2. What happens when the first line of `f` is uncommented?\n",
    "\n",
    "3. What happens when the last line of `f` is uncommented?\n",
    "\n",
    "4. What happens when the second and last lines of `f` are uncommented?"
   ]
  },
  {
   "cell_type": "code",
   "execution_count": null,
   "metadata": {
    "cell_style": "split"
   },
   "outputs": [],
   "source": [
    "def f():\n",
    "    # x = 1\n",
    "    # global x\n",
    "    print(x)\n",
    "    # x = 100\n",
    "\n",
    "x = 99\n",
    "f()\n",
    "print(x)"
   ]
  },
  {
   "cell_type": "markdown",
   "metadata": {},
   "source": [
    "**RULE:** A name is local when it is a function argument or when it is the target of an assignment in the function body (and when it is not marked as `global`).\n"
   ]
  },
  {
   "cell_type": "markdown",
   "metadata": {
    "slideshow": {
     "slide_type": "subslide"
    }
   },
   "source": [
    "## Functions are Objects"
   ]
  },
  {
   "cell_type": "markdown",
   "metadata": {},
   "source": [
    "* Functions are values that can be passed like any other value.\n",
    "* With `lambda` expressions, functions can be created on-the-fly."
   ]
  },
  {
   "cell_type": "code",
   "execution_count": null,
   "metadata": {},
   "outputs": [],
   "source": [
    "def integral(f, a, b, n):\n",
    "    h = (b - a) / n\n",
    "    result = 0.\n",
    "    for i in range(n):\n",
    "        result = result + f(a + 0.5*h + i*h) * h\n",
    "    return result\n",
    "\n",
    "def f1(x):\n",
    "    return x*3\n",
    "\n",
    "print(integral(f1, 0., 1., 10))\n",
    "print(integral(lambda x:x**2, 0., 1., 100))"
   ]
  },
  {
   "cell_type": "markdown",
   "metadata": {
    "slideshow": {
     "slide_type": "subslide"
    }
   },
   "source": [
    "## Extension Modules"
   ]
  },
  {
   "cell_type": "markdown",
   "metadata": {
    "cell_style": "split"
   },
   "source": [
    "* Extension modules need to be `import`ed before being available in the script.\n",
    "* The [standard library](https://docs.python.org/3/library/index.html) modules are always available.\n",
    "* Third-party modules are usually hosted on [PyPI](https://pypi.org) and need to be installed via `pip`."
   ]
  },
  {
   "cell_type": "code",
   "execution_count": null,
   "metadata": {
    "cell_style": "split"
   },
   "outputs": [],
   "source": [
    "import time\n",
    "from random import uniform\n",
    "import math as m\n",
    "\n",
    "N = 10000\n",
    "tic = time.time()\n",
    "hits = 0\n",
    "for i in range(N):\n",
    "    x = uniform(-1, 1)\n",
    "    y = uniform(-1, 1)\n",
    "    if x**2 + y**2 < 1:\n",
    "        hits = hits + 1\n",
    "\n",
    "pi_approx = 4 * (hits / N)\n",
    "duration = time.time() - tic\n",
    "print('error:', pi_approx - m.pi,\n",
    "      '\\nduration:', duration)"
   ]
  },
  {
   "cell_type": "markdown",
   "metadata": {
    "slideshow": {
     "slide_type": "slide"
    }
   },
   "source": [
    "## Names and Objects"
   ]
  },
  {
   "cell_type": "markdown",
   "metadata": {
    "cell_style": "split"
   },
   "source": [
    "* In Python there are **objects** (data) and **names** (variables) which refer to objects.\n",
    "\n",
    "* The statement\n",
    "  ```python\n",
    "  <name> = <expression>\n",
    "  ```\n",
    "  means\n",
    "  ```\n",
    "  Let <name> refer to the object to\n",
    "  which <expression> evaluates.\n",
    "  ```\n",
    "  \n",
    "* `==` checks for **equality** of objects, `is` checks for **identity** of objects.\n",
    "\n",
    "\n",
    "1. What happens when the following code is executed?\n",
    "2. What happens when `l2 = l` is replaced by `l2 = l.copy()`?"
   ]
  },
  {
   "cell_type": "code",
   "execution_count": null,
   "metadata": {
    "cell_style": "split"
   },
   "outputs": [],
   "source": [
    "l = [0, 1, 2]\n",
    "l2 = l\n",
    "print(l, l2)\n",
    "print(l == l2, l is l2)\n",
    "\n",
    "l[1] = 99\n",
    "print(l, l2)\n",
    "print(l == l2, l is l2)"
   ]
  },
  {
   "cell_type": "markdown",
   "metadata": {
    "slideshow": {
     "slide_type": "subslide"
    }
   },
   "source": [
    "## Lists of Lists"
   ]
  },
  {
   "cell_type": "markdown",
   "metadata": {},
   "source": [
    "* Lists store references to objects in the same way as names are references to objects."
   ]
  },
  {
   "cell_type": "code",
   "execution_count": null,
   "metadata": {},
   "outputs": [],
   "source": [
    "l = [1, 2]\n",
    "l2 = [l, l, l]\n",
    "print(l2)"
   ]
  },
  {
   "cell_type": "code",
   "execution_count": null,
   "metadata": {},
   "outputs": [],
   "source": [
    "l[0] = 99\n",
    "print(l2)"
   ]
  },
  {
   "cell_type": "code",
   "execution_count": null,
   "metadata": {},
   "outputs": [],
   "source": [
    "l[0] = l2\n",
    "print(l2)"
   ]
  },
  {
   "cell_type": "markdown",
   "metadata": {
    "slideshow": {
     "slide_type": "subslide"
    }
   },
   "source": [
    "## Objects and Classes"
   ]
  },
  {
   "cell_type": "markdown",
   "metadata": {
    "cell_style": "split"
   },
   "source": [
    "* Each object has a **type** (=class).\n",
    "* The type of an object determines its attributes and behavior (methods).\n",
    "* The behavior of operators is determined by **special methods**."
   ]
  },
  {
   "cell_type": "code",
   "execution_count": null,
   "metadata": {
    "cell_style": "split"
   },
   "outputs": [],
   "source": [
    "print(type(3))\n",
    "print(type(3.))\n",
    "(3).__add__(4)"
   ]
  },
  {
   "cell_type": "code",
   "execution_count": null,
   "metadata": {
    "cell_style": "center"
   },
   "outputs": [],
   "source": [
    "print(dir(3))"
   ]
  },
  {
   "cell_type": "markdown",
   "metadata": {
    "slideshow": {
     "slide_type": "subslide"
    }
   },
   "source": [
    "## Fun with Numbers"
   ]
  },
  {
   "cell_type": "markdown",
   "metadata": {},
   "source": [
    "* `int`, `float`, `str`, `tuple`, `bool` objects are **immutable**.\n",
    "* `list`, `dict`, `set` objects are **mutable**.\n",
    " \n",
    " \n",
    "1. What happens when the following code is executed?\n",
    "2. What happens when `x = 1` is replaced by `x = 1.`?\n",
    "3. What happens when `x = 1` is replaced by `x = 42`?"
   ]
  },
  {
   "cell_type": "code",
   "execution_count": null,
   "metadata": {},
   "outputs": [],
   "source": [
    "x = 1\n",
    "y = x + 1\n",
    "x = x + 1\n",
    "print(type(x))\n",
    "print(x == y, x is y)"
   ]
  },
  {
   "cell_type": "markdown",
   "metadata": {
    "slideshow": {
     "slide_type": "slide"
    }
   },
   "source": [
    "## NumPy"
   ]
  },
  {
   "cell_type": "markdown",
   "metadata": {
    "cell_style": "split"
   },
   "source": [
    "* In Python, there is no builtin array/matrix data type.\n",
    "\n",
    "* The `numpy` module provides a `ndarray` class which similar performance characteristics as MATLAB matrices.\n",
    "\n",
    "* Vectors are usually represented as 1d-arrays (no difference between row and column vectors)."
   ]
  },
  {
   "cell_type": "code",
   "execution_count": null,
   "metadata": {
    "cell_style": "split"
   },
   "outputs": [],
   "source": [
    "import numpy as np\n",
    "v = np.array([1, 2, 3])\n",
    "\n",
    "A = np.array([[1, 2, 3],\n",
    "              [4, 5, 6]])\n",
    "\n",
    "print(v.ndim, A.ndim)\n",
    "print(v.shape, A.shape)\n",
    "print(len(A))"
   ]
  },
  {
   "cell_type": "markdown",
   "metadata": {
    "cell_style": "center",
    "slideshow": {
     "slide_type": "subslide"
    }
   },
   "source": [
    "## Special Arrays"
   ]
  },
  {
   "cell_type": "code",
   "execution_count": null,
   "metadata": {
    "cell_style": "split"
   },
   "outputs": [],
   "source": [
    "np.zeros((2, 3))"
   ]
  },
  {
   "cell_type": "code",
   "execution_count": null,
   "metadata": {
    "cell_style": "split"
   },
   "outputs": [],
   "source": [
    "np.ones((2,2))"
   ]
  },
  {
   "cell_type": "code",
   "execution_count": null,
   "metadata": {
    "cell_style": "split"
   },
   "outputs": [],
   "source": [
    "np.eye(3)"
   ]
  },
  {
   "cell_type": "code",
   "execution_count": null,
   "metadata": {
    "cell_style": "split"
   },
   "outputs": [],
   "source": [
    "np.arange(4)"
   ]
  },
  {
   "cell_type": "code",
   "execution_count": null,
   "metadata": {
    "cell_style": "split"
   },
   "outputs": [],
   "source": [
    "np.full(4, 5)"
   ]
  },
  {
   "cell_type": "code",
   "execution_count": null,
   "metadata": {
    "cell_style": "split"
   },
   "outputs": [],
   "source": [
    "np.random.normal(size=3)"
   ]
  },
  {
   "cell_type": "markdown",
   "metadata": {
    "slideshow": {
     "slide_type": "subslide"
    }
   },
   "source": [
    "## Basic Operations"
   ]
  },
  {
   "cell_type": "code",
   "execution_count": null,
   "metadata": {
    "cell_style": "split"
   },
   "outputs": [],
   "source": [
    "A = np.array([[1,2],[3,4]])\n",
    "B = np.array([[5,6],[7,8]])\n",
    "print(A, B, sep='\\n')"
   ]
  },
  {
   "cell_type": "code",
   "execution_count": null,
   "metadata": {
    "cell_style": "split"
   },
   "outputs": [],
   "source": [
    "A + B"
   ]
  },
  {
   "cell_type": "code",
   "execution_count": null,
   "metadata": {
    "cell_style": "split"
   },
   "outputs": [],
   "source": [
    "A * B"
   ]
  },
  {
   "cell_type": "code",
   "execution_count": null,
   "metadata": {
    "cell_style": "split"
   },
   "outputs": [],
   "source": [
    "np.sin(A)"
   ]
  },
  {
   "cell_type": "code",
   "execution_count": null,
   "metadata": {
    "cell_style": "split"
   },
   "outputs": [],
   "source": [
    "A.dot(B)"
   ]
  },
  {
   "cell_type": "code",
   "execution_count": null,
   "metadata": {
    "cell_style": "split"
   },
   "outputs": [],
   "source": [
    "A @ B"
   ]
  },
  {
   "cell_type": "code",
   "execution_count": null,
   "metadata": {
    "cell_style": "split"
   },
   "outputs": [],
   "source": [
    "np.min(A)"
   ]
  },
  {
   "cell_type": "code",
   "execution_count": null,
   "metadata": {
    "cell_style": "split"
   },
   "outputs": [],
   "source": [
    "np.min(A, axis=0)"
   ]
  },
  {
   "cell_type": "code",
   "execution_count": null,
   "metadata": {
    "cell_style": "split"
   },
   "outputs": [],
   "source": [
    "np.linalg.norm(A, axis=1)"
   ]
  },
  {
   "cell_type": "markdown",
   "metadata": {
    "slideshow": {
     "slide_type": "subslide"
    }
   },
   "source": [
    "## Indexing and Slicing"
   ]
  },
  {
   "cell_type": "code",
   "execution_count": null,
   "metadata": {
    "cell_style": "split"
   },
   "outputs": [],
   "source": [
    "A = np.array([[1,2,3],[4,5,6],[7,8,9]])\n",
    "A"
   ]
  },
  {
   "cell_type": "code",
   "execution_count": null,
   "metadata": {
    "cell_style": "split"
   },
   "outputs": [],
   "source": [
    "A[0, 0]"
   ]
  },
  {
   "cell_type": "code",
   "execution_count": null,
   "metadata": {
    "cell_style": "split"
   },
   "outputs": [],
   "source": [
    "A[1, -1]"
   ]
  },
  {
   "cell_type": "code",
   "execution_count": null,
   "metadata": {
    "cell_style": "split"
   },
   "outputs": [],
   "source": [
    "A[1:, :]"
   ]
  },
  {
   "cell_type": "code",
   "execution_count": null,
   "metadata": {
    "cell_style": "split"
   },
   "outputs": [],
   "source": [
    "A[:, 1:2]"
   ]
  },
  {
   "cell_type": "code",
   "execution_count": null,
   "metadata": {
    "cell_style": "split"
   },
   "outputs": [],
   "source": [
    "A[:2, :2]"
   ]
  },
  {
   "cell_type": "code",
   "execution_count": null,
   "metadata": {
    "cell_style": "split"
   },
   "outputs": [],
   "source": [
    "A[:, 1]"
   ]
  },
  {
   "cell_type": "code",
   "execution_count": null,
   "metadata": {
    "cell_style": "split"
   },
   "outputs": [],
   "source": [
    "A[0]"
   ]
  },
  {
   "cell_type": "code",
   "execution_count": null,
   "metadata": {
    "cell_style": "split"
   },
   "outputs": [],
   "source": [
    "for x in A:\n",
    "    print('*', x, '*')"
   ]
  },
  {
   "cell_type": "markdown",
   "metadata": {
    "slideshow": {
     "slide_type": "subslide"
    }
   },
   "source": [
    "## Broadcasting and Item Assignment"
   ]
  },
  {
   "cell_type": "code",
   "execution_count": null,
   "metadata": {
    "cell_style": "center"
   },
   "outputs": [],
   "source": [
    "A = np.array([[1,2,3],[4,5,6],[7,8,9]])\n",
    "B = np.arange(90, 93)\n",
    "A, B"
   ]
  },
  {
   "cell_type": "code",
   "execution_count": null,
   "metadata": {
    "cell_style": "split"
   },
   "outputs": [],
   "source": [
    "A + B"
   ]
  },
  {
   "cell_type": "code",
   "execution_count": null,
   "metadata": {
    "cell_style": "split"
   },
   "outputs": [],
   "source": [
    "A + 10"
   ]
  },
  {
   "cell_type": "code",
   "execution_count": null,
   "metadata": {
    "cell_style": "split"
   },
   "outputs": [],
   "source": [
    "A[0, 0] = 7\n",
    "A"
   ]
  },
  {
   "cell_type": "code",
   "execution_count": null,
   "metadata": {
    "cell_style": "split"
   },
   "outputs": [],
   "source": [
    "A[0, 1:] = A[1, 1:]\n",
    "A"
   ]
  },
  {
   "cell_type": "code",
   "execution_count": null,
   "metadata": {
    "cell_style": "split"
   },
   "outputs": [],
   "source": [
    "A[:, 1:] = 9\n",
    "A"
   ]
  },
  {
   "cell_type": "code",
   "execution_count": null,
   "metadata": {
    "cell_style": "split"
   },
   "outputs": [],
   "source": [
    "A[:] = 0\n",
    "A"
   ]
  },
  {
   "cell_type": "markdown",
   "metadata": {
    "slideshow": {
     "slide_type": "subslide"
    }
   },
   "source": [
    "## Views and Copies"
   ]
  },
  {
   "cell_type": "markdown",
   "metadata": {
    "cell_style": "center"
   },
   "source": [
    "* Slicing and indexing create view arrays. Modifying a view also modifies the original array.\n",
    "* Copies are created using the `copy` method.\n",
    "* Some methods create views, some copies!\n",
    "* Advanced indexing (by a list of indices) always creates copies!"
   ]
  },
  {
   "cell_type": "code",
   "execution_count": null,
   "metadata": {
    "cell_style": "split"
   },
   "outputs": [],
   "source": [
    "A = np.array([[1, 2, 3],\n",
    "              [4, 5, 6]])\n",
    "B = A[1, 1:]\n",
    "B[:] = 0\n",
    "A, B.base is A"
   ]
  },
  {
   "cell_type": "code",
   "execution_count": null,
   "metadata": {
    "cell_style": "split"
   },
   "outputs": [],
   "source": [
    "A = np.array([[1, 2, 3],\n",
    "              [4, 5, 6]])\n",
    "B = A[1]\n",
    "B[:] = 0\n",
    "A, B.base is A"
   ]
  },
  {
   "cell_type": "code",
   "execution_count": null,
   "metadata": {
    "cell_style": "split"
   },
   "outputs": [],
   "source": [
    "A = np.array([[1, 2, 3],\n",
    "              [4, 5, 6]])\n",
    "B = A[1, 1:].copy()\n",
    "B[:] = 0\n",
    "A, B.base is A"
   ]
  },
  {
   "cell_type": "code",
   "execution_count": null,
   "metadata": {
    "cell_style": "split"
   },
   "outputs": [],
   "source": [
    "A = np.array([[1, 2, 3],\n",
    "              [4, 5, 6]])\n",
    "B = A[1, [1,2]]\n",
    "B[:] = 0\n",
    "A, B.base is A"
   ]
  },
  {
   "cell_type": "markdown",
   "metadata": {
    "slideshow": {
     "slide_type": "subslide"
    }
   },
   "source": [
    "## dtype"
   ]
  },
  {
   "cell_type": "code",
   "execution_count": null,
   "metadata": {
    "cell_style": "split"
   },
   "outputs": [],
   "source": [
    "np.zeros(42).dtype"
   ]
  },
  {
   "cell_type": "code",
   "execution_count": null,
   "metadata": {
    "cell_style": "split"
   },
   "outputs": [],
   "source": [
    "np.ones(42).dtype"
   ]
  },
  {
   "cell_type": "code",
   "execution_count": null,
   "metadata": {
    "cell_style": "split"
   },
   "outputs": [],
   "source": [
    "np.eye(42).dtype"
   ]
  },
  {
   "cell_type": "code",
   "execution_count": null,
   "metadata": {
    "cell_style": "split"
   },
   "outputs": [],
   "source": [
    "np.arange(42).dtype"
   ]
  },
  {
   "cell_type": "code",
   "execution_count": null,
   "metadata": {
    "cell_style": "split"
   },
   "outputs": [],
   "source": [
    "np.array([1,2,3]).dtype"
   ]
  },
  {
   "cell_type": "code",
   "execution_count": null,
   "metadata": {
    "cell_style": "split"
   },
   "outputs": [],
   "source": [
    "np.array([1.,2,3]).dtype"
   ]
  },
  {
   "cell_type": "code",
   "execution_count": null,
   "metadata": {
    "cell_style": "split"
   },
   "outputs": [],
   "source": [
    "np.array([1, 2, 3]) / 3"
   ]
  },
  {
   "cell_type": "code",
   "execution_count": null,
   "metadata": {
    "cell_style": "split"
   },
   "outputs": [],
   "source": [
    "np.array([1, [1,2], 3]).dtype"
   ]
  },
  {
   "cell_type": "markdown",
   "metadata": {
    "slideshow": {
     "slide_type": "subslide"
    }
   },
   "source": [
    "## Array Constructions"
   ]
  },
  {
   "cell_type": "code",
   "execution_count": null,
   "metadata": {
    "cell_style": "split"
   },
   "outputs": [],
   "source": [
    "np.hstack([np.arange(3), np.ones(3)])"
   ]
  },
  {
   "cell_type": "code",
   "execution_count": null,
   "metadata": {
    "cell_style": "split"
   },
   "outputs": [],
   "source": [
    "np.vstack([np.arange(3), np.ones(3)])"
   ]
  },
  {
   "cell_type": "code",
   "execution_count": null,
   "metadata": {
    "cell_style": "split"
   },
   "outputs": [],
   "source": [
    "A = np.arange(6)\n",
    "B = A.reshape((2, 3))\n",
    "B, B.base is A"
   ]
  },
  {
   "cell_type": "code",
   "execution_count": null,
   "metadata": {
    "cell_style": "split"
   },
   "outputs": [],
   "source": [
    "A = np.arange(6)\n",
    "B = A.ravel()\n",
    "B, B.base is A\n"
   ]
  },
  {
   "cell_type": "code",
   "execution_count": null,
   "metadata": {
    "cell_style": "split"
   },
   "outputs": [],
   "source": [
    "A = np.eye(4)[::2, :]\n",
    "B = A.ravel()\n",
    "B.base is A"
   ]
  },
  {
   "cell_type": "markdown",
   "metadata": {
    "cell_style": "split"
   },
   "source": [
    "* `ravel` and `reshape` only create copies when necessary!"
   ]
  },
  {
   "cell_type": "markdown",
   "metadata": {
    "slideshow": {
     "slide_type": "subslide"
    }
   },
   "source": [
    "## Comparisons"
   ]
  },
  {
   "cell_type": "code",
   "execution_count": null,
   "metadata": {},
   "outputs": [],
   "source": [
    "v = np.array([1, 2, 3, 4])\n",
    "w = np.array([1, 2, 5, 4])\n",
    "v == w"
   ]
  },
  {
   "cell_type": "code",
   "execution_count": null,
   "metadata": {},
   "outputs": [],
   "source": [
    "if v == w:\n",
    "    print('equal!')"
   ]
  },
  {
   "cell_type": "code",
   "execution_count": null,
   "metadata": {
    "cell_style": "split"
   },
   "outputs": [],
   "source": [
    "if np.any(v == w):\n",
    "    print('some equal!')"
   ]
  },
  {
   "cell_type": "code",
   "execution_count": null,
   "metadata": {
    "cell_style": "split"
   },
   "outputs": [],
   "source": [
    "if np.all(v == w):\n",
    "    print('all equal!')"
   ]
  },
  {
   "cell_type": "markdown",
   "metadata": {
    "slideshow": {
     "slide_type": "slide"
    }
   },
   "source": [
    "## Defining new Types"
   ]
  },
  {
   "cell_type": "code",
   "execution_count": 31,
   "metadata": {
    "cell_style": "center"
   },
   "outputs": [],
   "source": [
    "class Poly:\n",
    "    def __init__(self, coeffs):\n",
    "        self.coeffs = coeffs\n",
    "        \n",
    "    def eval(self, x):\n",
    "        val = 0\n",
    "        for n, c in enumerate(self.coeffs):\n",
    "            val = val + c * x**n\n",
    "        return val\n",
    "    \n",
    "    def eval_deriv(self, x):\n",
    "        val = 0\n",
    "        for n, c in enumerate(self.coeffs[1:]):\n",
    "            val = val + (n+1) * c * x**n\n",
    "        return val"
   ]
  },
  {
   "cell_type": "code",
   "execution_count": null,
   "metadata": {
    "cell_style": "split"
   },
   "outputs": [],
   "source": [
    "coeffs = [1, 2, 1]\n",
    "p = Poly(coeffs)\n",
    "p.eval(2)"
   ]
  },
  {
   "cell_type": "code",
   "execution_count": null,
   "metadata": {
    "cell_style": "split"
   },
   "outputs": [],
   "source": [
    "coeffs[0] = 99\n",
    "p.eval(2)"
   ]
  },
  {
   "cell_type": "markdown",
   "metadata": {
    "slideshow": {
     "slide_type": "subslide"
    }
   },
   "source": [
    "## Inheritance"
   ]
  },
  {
   "cell_type": "code",
   "execution_count": null,
   "metadata": {
    "cell_style": "split"
   },
   "outputs": [],
   "source": [
    "class Function:\n",
    "    def __init__(self, coeffs):\n",
    "        self.coeffs = coeffs\n",
    "    def eval_deriv(self, x):\n",
    "        dx = 1e-7\n",
    "        df = self.eval(x+dx) - self.eval(x)\n",
    "        return df / dx"
   ]
  },
  {
   "cell_type": "code",
   "execution_count": null,
   "metadata": {
    "cell_style": "split"
   },
   "outputs": [],
   "source": [
    "class Poly(Function):\n",
    "    def __init__(self, coeffs):\n",
    "        self.coeffs = coeffs\n",
    "    def eval(self, x):\n",
    "        val = 0\n",
    "        for n, c in enumerate(self.coeffs):\n",
    "            val = val + c * x**n\n",
    "        return val"
   ]
  },
  {
   "cell_type": "code",
   "execution_count": null,
   "metadata": {
    "cell_style": "split"
   },
   "outputs": [],
   "source": [
    "p = Poly([1, 2, 1])\n",
    "p.eval_deriv(2)"
   ]
  },
  {
   "cell_type": "code",
   "execution_count": null,
   "metadata": {
    "cell_style": "split"
   },
   "outputs": [],
   "source": [
    "Poly.eval_deriv = lambda self, x: 'POW!'\n",
    "p.eval_deriv(2)"
   ]
  },
  {
   "cell_type": "markdown",
   "metadata": {
    "slideshow": {
     "slide_type": "slide"
    }
   },
   "source": [
    "## Small Feature Tour"
   ]
  },
  {
   "cell_type": "markdown",
   "metadata": {
    "slideshow": {
     "slide_type": "subslide"
    }
   },
   "source": [
    "## Inplace Operators"
   ]
  },
  {
   "cell_type": "code",
   "execution_count": null,
   "metadata": {},
   "outputs": [],
   "source": [
    "x = 1\n",
    "x += 1\n",
    "x"
   ]
  },
  {
   "cell_type": "markdown",
   "metadata": {
    "slideshow": {
     "slide_type": "subslide"
    }
   },
   "source": [
    "## Optional Arguments"
   ]
  },
  {
   "cell_type": "code",
   "execution_count": null,
   "metadata": {
    "slideshow": {
     "slide_type": "-"
    }
   },
   "outputs": [],
   "source": [
    "def is_zero(x, tol=1e-7):\n",
    "    return abs(x) < tol\n",
    "\n",
    "print(is_zero(42), is_zero(42, 99))"
   ]
  },
  {
   "cell_type": "markdown",
   "metadata": {
    "slideshow": {
     "slide_type": "subslide"
    }
   },
   "source": [
    "## Keyword Arguments"
   ]
  },
  {
   "cell_type": "code",
   "execution_count": null,
   "metadata": {},
   "outputs": [],
   "source": [
    "def is_zero(x, tol=1e-7):\n",
    "    return abs(x) < tol\n",
    "\n",
    "print(is_zero(tol=99, x=3))\n",
    "is_zero(tol=99, y=3)"
   ]
  },
  {
   "cell_type": "markdown",
   "metadata": {
    "slideshow": {
     "slide_type": "subslide"
    }
   },
   "source": [
    "## Variable Argument Counts"
   ]
  },
  {
   "cell_type": "code",
   "execution_count": null,
   "metadata": {},
   "outputs": [],
   "source": [
    "def f(*args, **kwargs):\n",
    "    print(args, kwargs)\n",
    "    \n",
    "f(3, 'foo', answer=42)"
   ]
  },
  {
   "cell_type": "markdown",
   "metadata": {
    "slideshow": {
     "slide_type": "subslide"
    }
   },
   "source": [
    "## Unpacking"
   ]
  },
  {
   "cell_type": "code",
   "execution_count": null,
   "metadata": {
    "cell_style": "split"
   },
   "outputs": [],
   "source": [
    "a, b = [1, 2]\n",
    "print(a, b)"
   ]
  },
  {
   "cell_type": "code",
   "execution_count": null,
   "metadata": {
    "cell_style": "split"
   },
   "outputs": [],
   "source": [
    "a, *b, c = [1, 2, 3, 4]\n",
    "print(a, b, c)"
   ]
  },
  {
   "cell_type": "code",
   "execution_count": null,
   "metadata": {
    "cell_style": "split"
   },
   "outputs": [],
   "source": [
    "a, b = 1, 2  # parens not needed\n",
    "b, a = a, b\n",
    "print(a, b)"
   ]
  },
  {
   "cell_type": "code",
   "execution_count": null,
   "metadata": {
    "cell_style": "split"
   },
   "outputs": [],
   "source": [
    "def sum_prod(x, y):\n",
    "    return x+y, x * y\n",
    "a, b = sum_prod(2, 3)\n",
    "print(a, b)"
   ]
  },
  {
   "cell_type": "markdown",
   "metadata": {
    "slideshow": {
     "slide_type": "subslide"
    }
   },
   "source": [
    "## Comprehensions"
   ]
  },
  {
   "cell_type": "code",
   "execution_count": null,
   "metadata": {
    "cell_style": "split"
   },
   "outputs": [],
   "source": [
    "def f(x):\n",
    "    return x**2\n",
    "\n",
    "l = []\n",
    "for x in range(9):\n",
    "    l.append(f(x))\n",
    "print(l)"
   ]
  },
  {
   "cell_type": "code",
   "execution_count": null,
   "metadata": {
    "cell_style": "split"
   },
   "outputs": [],
   "source": [
    "[f(x) for x in range(9)]"
   ]
  },
  {
   "cell_type": "code",
   "execution_count": null,
   "metadata": {
    "cell_style": "split"
   },
   "outputs": [],
   "source": [
    "{x: f(x) for x in range(9)}"
   ]
  },
  {
   "cell_type": "markdown",
   "metadata": {
    "slideshow": {
     "slide_type": "subslide"
    }
   },
   "source": [
    "## Plots"
   ]
  },
  {
   "cell_type": "code",
   "execution_count": null,
   "metadata": {
    "cell_style": "split"
   },
   "outputs": [],
   "source": [
    "import matplotlib.pyplot as plt\n",
    "\n",
    "x = np.linspace(0.0, 5.0, 100)\n",
    "y = np.cos(2 * np.pi * x) * np.exp(-x)\n",
    "\n",
    "plt.plot(x, y, label=r'$\\cos(2 \\pi t) \\exp(-t)$')\n",
    "plt.title('The title')\n",
    "plt.xlabel('x axis')\n",
    "plt.ylabel('y axis')\n",
    "plt.legend()\n",
    "plt.show()"
   ]
  },
  {
   "cell_type": "markdown",
   "metadata": {
    "cell_style": "split"
   },
   "source": [
    "* More examples [here](https://matplotlib.org/gallery)"
   ]
  },
  {
   "cell_type": "markdown",
   "metadata": {
    "slideshow": {
     "slide_type": "subslide"
    }
   },
   "source": [
    "## Automatic Memory Management"
   ]
  },
  {
   "cell_type": "code",
   "execution_count": 251,
   "metadata": {},
   "outputs": [],
   "source": [
    "class X:\n",
    "    def __init__(self, x):\n",
    "        self.x = x\n",
    "    def __del__(self):\n",
    "        print(self.x, 'deleted')"
   ]
  },
  {
   "cell_type": "code",
   "execution_count": null,
   "metadata": {
    "cell_style": "split"
   },
   "outputs": [],
   "source": [
    "x = X(1)\n",
    "x = X(2)"
   ]
  },
  {
   "cell_type": "code",
   "execution_count": null,
   "metadata": {
    "cell_style": "split"
   },
   "outputs": [],
   "source": [
    "del x\n"
   ]
  },
  {
   "cell_type": "code",
   "execution_count": 254,
   "metadata": {
    "cell_style": "split"
   },
   "outputs": [],
   "source": [
    "x = X(1)\n",
    "x.x = x"
   ]
  },
  {
   "cell_type": "code",
   "execution_count": 255,
   "metadata": {
    "cell_style": "split"
   },
   "outputs": [],
   "source": [
    "del x\n"
   ]
  },
  {
   "cell_type": "code",
   "execution_count": null,
   "metadata": {},
   "outputs": [],
   "source": [
    "import gc\n",
    "gc.collect()"
   ]
  },
  {
   "cell_type": "markdown",
   "metadata": {
    "slideshow": {
     "slide_type": "subslide"
    }
   },
   "source": [
    "## Some Important Extension Modules\n",
    "\n",
    "\n",
    "  * [SciPy](https://docs.scipy.org/doc/scipy/reference/): more numerical algorithms, sparse matrices\n",
    "\n",
    "  * [pandas](https://pandas.pydata.org/): statistical data analysis similar to `R`\n",
    "\n",
    "  * [SymPy](https://www.sympy.org/): computer algebra\n",
    "\n",
    "  * [pillow](https://python-pillow.org/), [scikit-image](https://scikit-image.org/): imaging\n",
    "\n",
    "  * [scikit-learn](https://scikit-learn.org): machine Learning\n",
    "\n",
    "  * [TensorFlow](https://www.tensorflow.org/), [PyTorch](https://pytorch.org/): neural networks\n",
    "\n",
    "  * [jupyter](https://jupyter.org/): web-based scientific computing\n",
    "\n",
    "\n"
   ]
  },
  {
   "cell_type": "markdown",
   "metadata": {
    "slideshow": {
     "slide_type": "slide"
    }
   },
   "source": [
    "## There's More\n",
    "\n",
    "  * decorators\n",
    "\n",
    "  * meta classes\n",
    "\n",
    "  * exception handling\n",
    "\n",
    "  * closures\n",
    "\n",
    "  * context managers\n",
    "\n",
    "  * generators\n",
    "  \n",
    "  * coroutines and asynchronous programming\n",
    "\n",
    "  * ..."
   ]
  },
  {
   "cell_type": "markdown",
   "metadata": {
    "slideshow": {
     "slide_type": "slide"
    }
   },
   "source": [
    "## Setup\n",
    "\n",
    "```bash\n",
    "cd <somewhere>\n",
    "git clone https://github.com/sdrave/braunschweig09\n",
    "virtualenv --python=python3 venv\n",
    "source ./venv/bin/activate\n",
    "cd braunschweig09\n",
    "pip install -r requirements.txt\n",
    "```"
   ]
  }
 ],
 "metadata": {
  "celltoolbar": "Slideshow",
  "kernelspec": {
   "display_name": "Python 3",
   "language": "python",
   "name": "python3"
  },
  "language_info": {
   "codemirror_mode": {
    "name": "ipython",
    "version": 3
   },
   "file_extension": ".py",
   "mimetype": "text/x-python",
   "name": "python",
   "nbconvert_exporter": "python",
   "pygments_lexer": "ipython3",
   "version": "3.5.3"
  }
 },
 "nbformat": 4,
 "nbformat_minor": 2
}
